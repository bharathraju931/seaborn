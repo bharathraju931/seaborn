{
 "cells": [
  {
   "cell_type": "code",
   "execution_count": 1,
   "id": "192d3877-8e21-4e90-912f-cab26aef1d30",
   "metadata": {},
   "outputs": [
    {
     "ename": "SyntaxError",
     "evalue": "unmatched ')' (1930913265.py, line 15)",
     "output_type": "error",
     "traceback": [
      "\u001b[1;36m  Cell \u001b[1;32mIn[1], line 15\u001b[1;36m\u001b[0m\n\u001b[1;33m    corr_pairs=corr.unstack9).sort_values(ascendind=False)\u001b[0m\n\u001b[1;37m                            ^\u001b[0m\n\u001b[1;31mSyntaxError\u001b[0m\u001b[1;31m:\u001b[0m unmatched ')'\n"
     ]
    }
   ],
   "source": [
    "import pandas as pd\n",
    "import seaborn as sns\n",
    "import matplotlib.pyplot as plt\n",
    "\n",
    "penguins=sns.load_dataset('penguins')\n",
    "numeric_penguins=penguins.select_dtypes(include='number')\n",
    "corr=numeric_penguins.corr()\n",
    "print('correlation matrix:\\n')\n",
    "print(corr)\n",
    "print('\\n')\n",
    "plt.figure(figsize=(8,6))\n",
    "sns.heatmap(corr,annot=True, cmap='coolwarm', fmt='.2f')\n",
    "plt.title('correlation heatmap - penguins dataset')\n",
    "plt.show()\n",
    "corr_pairs=corr.unstack9).sort_values(ascendind=False)\n",
    "corr_pairs = corr_pairs[corr_pairs <1]\n",
    "top_pair= corr_pairs.idxmax()\n",
    "top_value = corr_pairs.max()\n",
    "print(f\"corr variables:{top_pair}\")\n",
    "print(f\"corr value:{top_value:.2f}\")"
   ]
  },
  {
   "cell_type": "code",
   "execution_count": null,
   "id": "e929a43e-8b02-4679-9874-202621d81872",
   "metadata": {},
   "outputs": [],
   "source": []
  }
 ],
 "metadata": {
  "kernelspec": {
   "display_name": "Python [conda env:base] *",
   "language": "python",
   "name": "conda-base-py"
  },
  "language_info": {
   "codemirror_mode": {
    "name": "ipython",
    "version": 3
   },
   "file_extension": ".py",
   "mimetype": "text/x-python",
   "name": "python",
   "nbconvert_exporter": "python",
   "pygments_lexer": "ipython3",
   "version": "3.13.5"
  }
 },
 "nbformat": 4,
 "nbformat_minor": 5
}
